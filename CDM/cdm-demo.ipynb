{
 "cells": [
  {
   "cell_type": "markdown",
   "id": "f7c2850a",
   "metadata": {},
   "source": [
    "localhost:49003/buckets/cdm-lake\n",
    "https://min.io/docs/minio/linux/reference/minio-mc.html\n",
    "https://github.com/kbase/cdm-jupyterhub/blob/main/docs/user_guide.md\n",
    "data-loading-notebooks directory has example notebooks for loading\n",
    "https://delta.io/blog/2023-06-03-delta-lake-z-order/\n",
    "https://www.linkedin.com/pulse/partitioning-vs-z-ordering-explained-saravanan-ponnaiah/\n",
    "sql alchemy"
   ]
  }
 ],
 "metadata": {
  "kernelspec": {
   "display_name": "Python 3 (ipykernel)",
   "language": "python",
   "name": "python3"
  },
  "language_info": {
   "codemirror_mode": {
    "name": "ipython",
    "version": 3
   },
   "file_extension": ".py",
   "mimetype": "text/x-python",
   "name": "python",
   "nbconvert_exporter": "python",
   "pygments_lexer": "ipython3",
   "version": "3.9.19"
  }
 },
 "nbformat": 4,
 "nbformat_minor": 5
}
