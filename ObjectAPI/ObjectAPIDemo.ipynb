{
 "cells": [
  {
   "cell_type": "markdown",
   "id": "af95529e",
   "metadata": {},
   "source": [
    "# Pulling expression data object from KBase"
   ]
  },
  {
   "cell_type": "code",
   "execution_count": null,
   "id": "68f285a9",
   "metadata": {},
   "outputs": [
    {
     "name": "stdout",
     "output_type": "stream",
     "text": [
      "Output files printed to:/Users/chenry/code/notebooks/KBaseNotebooks//Users/chenry/code/notebooks/KBaseNotebooks/ObjectAPI/nboutput when using KBDevUtils.output_dir\n",
      "ModelSEED: /Users/chenry/code//kb_sdk/run_local/workdir/tmp/\n"
     ]
    }
   ],
   "source": [
    "%run util.py\n",
    "ws = 108562\n",
    "util.msseedrecon()\n",
    "expdata = util.msrecon.kbase_api.get_from_ws(\"CH4_Vs_CH4_AQDS_TPM_ExpressionMatrix\",ws)\n"
   ]
  },
  {
   "cell_type": "markdown",
   "id": "58b6e771",
   "metadata": {},
   "source": [
    "# Deleting objects in the workspace"
   ]
  },
  {
   "cell_type": "code",
   "execution_count": null,
   "id": "bc5c0f3f",
   "metadata": {},
   "outputs": [
    {
     "name": "stdout",
     "output_type": "stream",
     "text": [
      "Output files printed to:/Users/chenry/code/notebooks/KBaseNotebooks/llm_api/nboutput when using KBDevUtils.output_dir\n",
      "ModelSEED: /Users/chenry/code//kb_sdk/run_local/workdir/tmp/\n",
      "Deleting  SF2_B_H2O.8.pg.R\n",
      "Deleting  R1_B_D1.20.pg.R\n",
      "Deleting  R2_B_D2.4.pg.R\n",
      "Deleting  R2_restored_DShore.46.pg.R\n",
      "Deleting  R1_A_D2.21.pg.R\n",
      "Deleting  R1_C_D1.31.pg.R\n",
      "Deleting  R2_A_H2O.29.pg.R\n",
      "Deleting  R2_B_D2.50.pg.R\n",
      "Deleting  R1_B_D2.18.pg.R\n",
      "Deleting  SF2_C_D2.32.pg.R\n",
      "Deleting  R1_A_D1.15.pg.R\n",
      "Deleting  R2_C_D1.88.pg.R\n",
      "Deleting  R2_restored_C_black.57.pg.R\n",
      "Deleting  R2_A_D1.10.pg.R\n",
      "Deleting  SF2_B_D1.44.pg.R\n",
      "Deleting  R2A_A_D1.51.pg.R\n",
      "Deleting  R2A_B_H2O.69.pg.R\n"
     ]
    }
   ],
   "source": [
    "#Demonstrates deletion of all objects in a workspace that match a name criteria\n",
    "%run util.py\n",
    "ws_client = util.ws_client()\n",
    "\n",
    "list = util.msrecon.kbase_api.list_objects(187797, object_type=\"KBaseGenomes.Genome\", include_metadata=False)\n",
    "\n",
    "for item in list:\n",
    "    if item[1][-5:] == \".pg.R\":\n",
    "        print(\"Deleting \",item[1])\n",
    "        ws_client.delete_objects([{\n",
    "            \"wsid\":187797,\n",
    "            \"name\":item[1]\n",
    "        }])\n",
    "        "
   ]
  },
  {
   "cell_type": "markdown",
   "id": "cd3397ba",
   "metadata": {},
   "source": [
    "# Getting workspace object"
   ]
  },
  {
   "cell_type": "code",
   "execution_count": null,
   "id": "5577049b",
   "metadata": {},
   "outputs": [
    {
     "name": "stdout",
     "output_type": "stream",
     "text": [
      "Output files printed to:/Users/chenry/code/notebooks/KBaseNotebooks/APIDemo/nboutput when using KBDevUtils.output_dir\n",
      "ModelSEED: /Users/chenry/code//kb_sdk/run_local/workdir/tmp/\n"
     ]
    }
   ],
   "source": [
    "#Desmontrates pulling a single workspace object and saving to local notebook directory\n",
    "%run util.py\n",
    "ws = 181152\n",
    "id = \"Vallitalea.1.ASV.mdl.gf\"\n",
    "data = util.get_object(id,ws)\n",
    "util.save(str(ws)+\"/\"+id,data)"
   ]
  },
  {
   "cell_type": "markdown",
   "id": "64e0a57f",
   "metadata": {},
   "source": [
    "# Listing all objects in a workspace"
   ]
  },
  {
   "cell_type": "code",
   "execution_count": null,
   "id": "ed70e2e9",
   "metadata": {},
   "outputs": [],
   "source": [
    "#Need to list objects in a workspace with more than 10,000 objects including metadata\n",
    "%run util.py\n",
    "ws_client = util.ws_client()\n",
    "workspace_id = 19217\n",
    "done = False\n",
    "skip = 0\n",
    "full_output = {}\n",
    "start_after = None\n",
    "while not done:\n",
    "    input = {\n",
    "        \"ids\":[workspace_id],\n",
    "        \"includeMetadata\":1,\n",
    "        \"type\":\"KBaseGenomes.Genome\"\n",
    "    }\n",
    "    if start_after:\n",
    "        input[\"startafter\"] = start_after\n",
    "    output = ws_client.list_objects(input)\n",
    "    start_after = str(workspace_id)+\"/\"+str(output[-1][0])\n",
    "    for item in output:\n",
    "        full_output[item[1]] = item\n",
    "    print(len(output),\"/\",len(full_output),start_after)\n",
    "    if len(output) < 5000:\n",
    "        done = True"
   ]
  },
  {
   "cell_type": "markdown",
   "id": "fe70050a",
   "metadata": {},
   "source": [
    "# Copying workspace objects"
   ]
  },
  {
   "cell_type": "code",
   "execution_count": null,
   "id": "dd2ef191",
   "metadata": {},
   "outputs": [],
   "source": [
    "%run util.py\n",
    "ws_client = util.ws_client()\n",
    "output = ws_client.list_objects({\n",
    "    \"ids\":[144303]\n",
    "})\n",
    "for item in output:\n",
    "    if \"CL_Biolog_\" in item[1] and \"_logistic_regression\" in item[1]:\n",
    "        print(\"Copying \"+item[1])\n",
    "        ws_client.copy_object({\n",
    "            \"to\":{\"wsid\":155570,\"name\":item[1]},\n",
    "            \"from\":{\"wsid\":144303,\"name\":item[1]}\n",
    "        })"
   ]
  },
  {
   "cell_type": "markdown",
   "id": "0674e05d",
   "metadata": {},
   "source": [
    "# Renaming workspace objects"
   ]
  },
  {
   "cell_type": "code",
   "execution_count": null,
   "id": "3032584b",
   "metadata": {},
   "outputs": [],
   "source": [
    "%run util.py\n",
    "ws_client = util.ws_client()\n",
    "output = ws_client.list_objects({\n",
    "    \"ids\":[144303]\n",
    "})\n",
    "for genome in output:\n",
    "    if genome[1][-11:] == \"_contigs.gb\":\n",
    "        ws_client.rename_object({\"obj\":{\"wsid\":108937,\"name\":genome[1]},\"new_name\":genome[1][0:-11]})"
   ]
  },
  {
   "cell_type": "markdown",
   "id": "3569a21d",
   "metadata": {},
   "source": [
    "# Downloading an object from blob store"
   ]
  },
  {
   "cell_type": "code",
   "execution_count": 1,
   "id": "2e6bc250",
   "metadata": {},
   "outputs": [
    {
     "name": "stderr",
     "output_type": "stream",
     "text": [
      "1730785259.151076 INFO: Note: NumExpr detected 16 cores but \"NUMEXPR_MAX_THREADS\" not set, so enforcing safe limit of 8.\n",
      "1730785259.151902 INFO: NumExpr defaulting to 8 threads.\n"
     ]
    },
    {
     "name": "stdout",
     "output_type": "stream",
     "text": [
      "python version 3.9.19\n",
      "KBBaseModules 0.0.1\n",
      "modelseedpy 0.3.3\n",
      "cobrakbase 0.4.0\n",
      "Output files printed to:/Users/chenry/code/notebooks/KBaseNotebooks/ObjectAPI/nboutput when using KBDevUtils.output_dir\n",
      "data/571578e9-3981-4567-a6c0-f72de8ee7039.inter.fastq.gz\n"
     ]
    }
   ],
   "source": [
    "%run util.py\n",
    "ws = 108562\n",
    "id = \"3L.R1.fq.gz_reads\"\n",
    "data = util.get_object(id,ws)\n",
    "output = util.download_blob_file(data[\"data\"][\"lib1\"][\"file\"][\"hid\"],\"data/\",data[\"data\"][\"lib1\"][\"file\"][\"url\"])\n",
    "print(output)"
   ]
  },
  {
   "cell_type": "code",
   "execution_count": null,
   "id": "78abbebb",
   "metadata": {},
   "outputs": [],
   "source": []
  }
 ],
 "metadata": {
  "kernelspec": {
   "display_name": "modelseed",
   "language": "python",
   "name": "python3"
  },
  "language_info": {
   "codemirror_mode": {
    "name": "ipython",
    "version": 3
   },
   "file_extension": ".py",
   "mimetype": "text/x-python",
   "name": "python",
   "nbconvert_exporter": "python",
   "pygments_lexer": "ipython3",
   "version": "3.9.19"
  }
 },
 "nbformat": 4,
 "nbformat_minor": 5
}
